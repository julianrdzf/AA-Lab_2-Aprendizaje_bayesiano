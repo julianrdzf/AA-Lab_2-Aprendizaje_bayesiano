{
 "cells": [
  {
   "cell_type": "markdown",
   "metadata": {},
   "source": [
    "## Carga de librerias e incializacion\n"
   ]
  },
  {
   "cell_type": "code",
   "execution_count": 9,
   "metadata": {},
   "outputs": [],
   "source": [
    "from preprocess import load_data\n",
    "from bayes import BayesPredictor"
   ]
  },
  {
   "cell_type": "code",
   "execution_count": 10,
   "metadata": {},
   "outputs": [
    {
     "name": "stdout",
     "output_type": "stream",
     "text": [
      "Es IOS?:  True\n",
      "<bound method NDFrame.head of                                                 crudo  ...                                           palabras\n",
      "0   [2/9/23 18:42:58] Mauro Freduc: Mis queridos, ...  ...  [mis, queridos, espero, se, encuentren, muy, b...\n",
      "1   ‎[2/9/23 18:43:09] Mauro Freduc: ‎imagen: omit...  ...                                  [imagen, omitida]\n",
      "5   [2/9/23 18:44:42] Zapa: Buena Maurito, bueno f...  ...  [buena, maurito, bueno, felicitaciones, viejo,...\n",
      "6   [2/9/23 18:45:08] Mauro Freduc: Zapa querido m...  ...     [zapa, querido, muchísimas, gracias, mi, loco]\n",
      "7   [2/9/23 18:45:51] Zapa: Vamos a tener que junt...  ...  [vamos, a, tener, que, juntarnos, a, comer, un...\n",
      "8   [2/9/23 18:47:49] Jesus: ‎Mauro Freduc añadió ...  ...                  [mauro, freduc, añadió, a, jesus]\n",
      "9   [2/9/23 18:47:57] Nico Goncalvez: ‎Mauro Fredu...  ...        [mauro, freduc, añadió, a, nico, goncalvez]\n",
      "10  [2/9/23 18:46:32] German: Felicitaciones viejo...  ...          [felicitaciones, viejo, preciosa, botija]\n",
      "11   [2/9/23 18:46:49] Mauro Freduc: Cuando quieran\\n  ...                                  [cuando, quieran]\n",
      "12  [2/9/23 18:46:57] Mauro Freduc: Saben que son ...  ...                     [saben, que, son, bienvenidos]\n",
      "13  [2/9/23 18:47:09] Mauro Freduc: Muchas gracias...  ...                          [muchas, gracias, germán]\n",
      "15            [2/9/23 18:48:25] Zapa: Tercero viejo\\n  ...                                   [tercero, viejo]\n",
      "16                     [2/9/23 18:48:28] Zapa: Jaja\\n  ...                                             [jaja]\n",
      "17  [2/9/23 18:48:43] Mauro Freduc: Vamo a ver qui...  ...         [vamo, a, ver, quien, se, la, juega, jaja]\n",
      "18        [2/9/23 18:48:47] Mauro Freduc: Nico zama\\n  ...                                       [nico, zama]\n",
      "19  [2/9/23 18:48:54] Mauro Freduc: Denle la bienv...  ...              [denle, la, bienvenida, a, alfonsina]\n",
      "20   [2/9/23 18:48:55] Seba Braga: Tercero o cuarto\\n  ...                               [tercero, o, cuarto]\n",
      "25  [2/9/23 18:49:18] Nico Goncalvez: Felicitacion...  ...                                   [felicitaciones]\n",
      "26  [2/9/23 18:49:24] Nico Goncalvez: Hermosa maur...  ...                                 [hermosa, maurito]\n",
      "27  [2/9/23 18:49:37] Mauro Freduc: Nico querido m...  ...     [nico, querido, muchísimas, gracias, mi, loco]\n",
      "28  [2/9/23 18:49:37] Nico Goncalvez: Abrazo grand...  ...                                  [abrazo, grandee]\n",
      "29  [2/9/23 18:49:53] Camilo Sierr: Felicitaciones...  ...                     [felicitaciones, mauroooooooo]\n",
      "30  [2/9/23 18:51:04] Mauro Freduc: Gracias gurisa...  ...  [gracias, gurisada, siempre, los, tengo, prese...\n",
      "31  [2/9/23 18:51:26] Corde: Buenas tardes felicid...  ...      [buenas, tardes, felicidades, abrazo, grande]\n",
      "33  [2/9/23 18:55:50] Mauro Freduc: Cuando quieran...  ...  [cuando, quieran, los, espero, por, de, agosto, ]\n",
      "34  [2/9/23 18:59:38] Julián: Que bien!! Felicitac...  ...      [que, bien, felicitaciones, me, alegro, pila]\n",
      "35  [2/9/23 19:01:45] Mauro Freduc: Muchas gracias...  ...                           [muchas, graciass, juli]\n",
      "36  [2/9/23 19:11:09] Jesus: Felicidades !! Bienve...  ...  [felicidades, bienvenida, alfonsina, freducci,...\n",
      "37    [2/9/23 19:11:23] Camilo Sierr: Ahí estaremos\\n  ...                                   [ahí, estaremos]\n",
      "38  [2/9/23 19:11:56] Jesus: Cuando ande por el pu...  ...  [cuando, ande, por, el, pueblo, caigo, a, visi...\n",
      "39  [2/9/23 19:12:00] Seba Perdomo: Buenas tardes ...  ...  [buenas, tardes, gurisada, felicitaciones, duc...\n",
      "40  [2/9/23 19:12:54] Lucho Castillo: Felicitacion...  ...       [felicitaciones, mauro, que, buena, noticia]\n",
      "41  [2/9/23 19:13:00] Lucho Castillo: Hermosa la e...  ...                               [hermosa, la, enana]\n",
      "43  [2/9/23 19:16:22] Lucho Castillo: Ya vino con ...  ...  [ya, vino, con, puntos, abajo, del, brazo, jaj...\n",
      "44  [2/9/23 19:16:35] Lucho Castillo: Vamo arriba ...  ...                   [vamo, arriba, maurito, querido]\n",
      "45    [2/9/23 19:16:58] Seba Braga: A mi me decís ?\\n  ...                                 [a, mi, me, decís]\n",
      "46  [2/9/23 19:17:11] Lucho Castillo: Digo por Peñ...  ...                    [digo, por, peñarol, que, gano]\n",
      "47  [2/9/23 19:18:45] Seba Braga: Ah yo de fútbol ...  ...                   [ah, yo, de, fútbol, cero, jaja]\n",
      "48             [2/9/23 19:18:46] Seba Braga: Lalala\\n  ...                                           [lalala]\n",
      "49  [2/9/23 19:18:55] Seba Braga: Cuando vamos a c...  ...               [cuando, vamos, a, comer, un, asado]\n",
      "50                 [2/9/23 19:21:44] Julián: Cloooo\\n  ...                                           [cloooo]\n",
      "51  [2/9/23 19:22:24] Seba Braga: Yo no tomo más a...  ...  [yo, no, tomo, más, alcohol, pero, pal, asado,...\n",
      "52  [2/9/23 20:50:06] Martin Corre: Muchas felicid...  ...  [muchas, felicidades, papasito, dotore, jajaja...\n",
      "55  [2/9/23 22:12:23] Martín Terra: Pero que buena...  ...              [pero, que, buena, noticia, cabecita]\n",
      "56  [2/9/23 22:12:58] Martín Terra: El otro día ju...  ...  [el, otro, día, justo, estaba, pensando, en, e...\n",
      "57      [2/9/23 22:13:04] Martín Terra: Tremendoooo\\n  ...                                      [tremendoooo]\n",
      "58  [2/9/23 22:30:16] Mauro Freduc: Muchas gracias...  ...  [muchas, gracias, gurisada, si, sale, al, padr...\n",
      "59             [2/9/23 22:30:17] Mauro Freduc: Jaja\\n  ...                                             [jaja]\n",
      "60  [2/9/23 22:30:29] Mauro Freduc: Cuando quieran...  ...                [cuando, quieran, son, bienvenidos]\n",
      "\n",
      "[49 rows x 6 columns]>\n"
     ]
    }
   ],
   "source": [
    "FILENAME='Datos/chat.txt'\n",
    "HORIZONTE=4\n",
    "m=2\n",
    "\n",
    "\n",
    "data=load_data(FILENAME)\n",
    "print(data.head)\n",
    "predictor=BayesPredictor(data[\"palabras\"],HORIZONTE,m)"
   ]
  },
  {
   "cell_type": "code",
   "execution_count": 11,
   "metadata": {
    "colab": {
     "base_uri": "https://localhost:8080/"
    },
    "id": "VrHEaPPcj30i",
    "outputId": "33cfb55d-d899-4720-c22b-71dfe9f51303"
   },
   "outputs": [
    {
     "name": "stdout",
     "output_type": "stream",
     "text": [
      "Ingrese la frase dando ENTER luego de \u001b[3mcada palabra\u001b[0m.\n",
      "Ingrese sólo ENTER para aceptar la recomendación sugerida, o escriba la siguiente palabra y de ENTER\n",
      "Ingrese '.' para comenzar con una frase nueva.\n",
      "Ingrese '..' para terminar el proceso.\n",
      "[('mis', 0.0023228803716608595), ('queridos', 0.0023228803716608595), ('espero', 0.0023228803716608595), ('se', 0.0023228803716608595), ('encuentren', 0.0023228803716608595)]\n",
      " \u001b[3mmis\u001b[0m\n",
      "[('mis', 0.0023228803716608595), ('queridos', 0.0023228803716608595), ('espero', 0.0023228803716608595), ('se', 0.0023228803716608595), ('encuentren', 0.0023228803716608595)]\n",
      " Hola \u001b[3mmis\u001b[0m\n",
      "[('queridos', 0.0007796892304413337), ('espero', 0.0007796892304413337), ('se', 0.0007796892304413337), ('encuentren', 0.0007796892304413337), ('mis', 5.395773221047293e-06)]\n",
      " Hola mis \u001b[3mqueridos\u001b[0m\n",
      "[('espero', 0.00026170753495649877), ('se', 0.00026170753495649877), ('encuentren', 0.00026170753495649877), ('queridos', 1.8111248093875347e-06), ('muy', 1.8111248093875347e-06)]\n",
      " Hola mis queridos \u001b[3mespero\u001b[0m\n",
      "[('se', 0.014475698027281337), ('encuentren', 0.014475698027281337), ('espero', 0.00039256130243474813), ('muy', 0.00010017784101924802), ('queridos', 2.716687214081302e-06)]\n",
      " Hola mis queridos espero \u001b[3mse\u001b[0m\n",
      "[('se', 8.535656837314109e-05), ('encuentren', 8.535656837314109e-05), ('espero', 2.3147543965597583e-06), ('muy', 5.907028953158553e-07), ('bien', 1.8632082516897493e-08)]\n",
      " Hola mis queridos espero que \u001b[3mse\u001b[0m\n",
      "[('se', 0.0002542975964334757), ('encuentren', 0.0002542975964334757), ('muy', 0.0002542975964334757), ('bien', 8.02111152352437e-06), ('espero', 6.896206004975612e-06)]\n",
      " Hola mis queridos espero que anden \u001b[3mse\u001b[0m\n",
      "[('bien', 1.604222304704874e-05), ('se', 3.5196899160342665e-06), ('encuentren', 3.5196899160342665e-06), ('muy', 3.5196899160342665e-06), ('de', 3.5196899160342665e-06)]\n",
      " Hola mis queridos espero que anden bien \u001b[3mbien\u001b[0m\n",
      "----- Comenzando frase nueva -----\n",
      "[('mis', 1), ('queridos', 1), ('espero', 1), ('se', 1), ('encuentren', 1)]\n",
      "Queria \u001b[3mmis\u001b[0m\n",
      "[('y', 0.33559322033898303), ('mantenerles', 0.33559322033898303), ('al', 0.33559322033898303), ('tanto', 0.33559322033898303), ('mis', 0.0022598870056497176)]\n",
      "Queria avisarles \u001b[3my\u001b[0m\n",
      "[('mantenerles', 0.015499856363114047), ('al', 0.015499856363114047), ('tanto', 0.015499856363114047), ('y', 0.0015168055156564205), ('que', 0.00019853809569408536)]\n",
      "Queria avisarles y \u001b[3mmantenerles\u001b[0m\n",
      "[('al', 0.005201646711689121), ('tanto', 0.005201646711689121), ('que', 6.66280388939473e-05), ('mantenerles', 3.5027923984438524e-05), ('y', 3.427809074929764e-06)]\n",
      "Queria avisarles y mantenerles \u001b[3mal\u001b[0m\n",
      "[('tanto', 0.0006678385396787303), ('al', 1.7632700717590238e-05), ('que', 8.554362620705945e-06), ('nació', 4.4009582614564343e-07), ('mantenerles', 1.1873872537097805e-07)]\n",
      "Queria avisarles y mantenerles al \u001b[3mtanto\u001b[0m\n",
      "[('que', 0.0012703228491748326), ('nació', 6.535423018262804e-05), ('tanto', 4.497229223425794e-06), ('mi', 4.4009582614564343e-07), ('al', 1.1873872537097805e-07)]\n",
      "Queria avisarles y mantenerles al tanto \u001b[3mque\u001b[0m\n",
      "[('nació', 0.00017009605444853637), ('que', 8.402686737766463e-05), ('mi', 1.1454279760844199e-06), ('tanto', 5.658374907586844e-07), ('enana', 3.024232280090878e-08)]\n",
      "Queria avisarles y mantenerles al tanto que \u001b[3mnació\u001b[0m\n",
      "[('mi', 0.00017009605444853637), ('enana', 4.490984935934953e-06), ('nació', 1.14542797608442e-06), ('que', 5.658374907586844e-07), ('y', 3.024232280090878e-08)]\n",
      "Queria avisarles y mantenerles al tanto que nació \u001b[3mmi\u001b[0m\n",
      "[('enana', 6.118966975211374e-05), ('mi', 5.987979914579937e-06), ('y', 4.120516481623821e-07), ('quería', 2.0355210063596236e-07), ('que', 2.0355210063596236e-07)]\n",
      "Queria avisarles y mantenerles al tanto que nació mi \u001b[3menana\u001b[0m\n",
      "----- Comenzando frase nueva -----\n",
      "[('quería', 0.12828947368421054), ('y', 0.12828947368421054), ('que', 0.12828947368421054), ('todos', 0.12828947368421054), ('mis', 0.003289473684210526)]\n",
      "enana \u001b[3mquería\u001b[0m\n"
     ]
    }
   ],
   "source": [
    "\n",
    "##### LOOP PRINCIPAL #####\n",
    "\n",
    "print(\"Ingrese la frase dando ENTER luego de \\x1b[3mcada palabra\\x1b[0m.\")\n",
    "print(\"Ingrese sólo ENTER para aceptar la recomendación sugerida, o escriba la siguiente palabra y de ENTER\")\n",
    "print(\"Ingrese '.' para comenzar con una frase nueva.\")\n",
    "print(\"Ingrese '..' para terminar el proceso.\")\n",
    "\n",
    "frase = []\n",
    "palabra_sugerida = \"\"\n",
    "while 1:\n",
    "    palabra = input(\">> \")\n",
    "\n",
    "    if palabra == \"..\":\n",
    "        break\n",
    "\n",
    "    elif palabra == \".\":\n",
    "        predictor.update(frase)\n",
    "            \n",
    "        print(\"----- Comenzando frase nueva -----\")\n",
    "        frase = []\n",
    "\n",
    "    elif palabra == \"\": # acepta última palabra sugerida\n",
    "        frase.append(palabra_sugerida)\n",
    "\n",
    "    else: # escribió una palabra\n",
    "        frase.append(palabra)\n",
    "\n",
    "    if frase:\n",
    "        palabra_sugerida = predictor.predict(frase,verbose=True)[0]\n",
    "    \n",
    "        frase_propuesta = frase.copy()\n",
    "        frase_propuesta.append(\"\\x1b[3m\"+ palabra_sugerida +\"\\x1b[0m\")\n",
    "    \n",
    "        print(\" \".join(frase_propuesta))\n",
    "\n"
   ]
  },
  {
   "cell_type": "code",
   "execution_count": null,
   "metadata": {},
   "outputs": [],
   "source": []
  }
 ],
 "metadata": {
  "colab": {
   "provenance": []
  },
  "kernelspec": {
   "display_name": "Python 3 (ipykernel)",
   "language": "python",
   "name": "python3"
  },
  "language_info": {
   "codemirror_mode": {
    "name": "ipython",
    "version": 3
   },
   "file_extension": ".py",
   "mimetype": "text/x-python",
   "name": "python",
   "nbconvert_exporter": "python",
   "pygments_lexer": "ipython3",
   "version": "3.11.5"
  }
 },
 "nbformat": 4,
 "nbformat_minor": 1
}
