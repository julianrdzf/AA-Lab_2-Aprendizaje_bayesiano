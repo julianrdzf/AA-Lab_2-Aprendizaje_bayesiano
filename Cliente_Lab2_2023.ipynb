{
 "cells": [
  {
   "cell_type": "markdown",
   "metadata": {},
   "source": [
    "## Carga de librerias e incializacion\n"
   ]
  },
  {
   "cell_type": "code",
   "execution_count": null,
   "metadata": {},
   "outputs": [],
   "source": [
    "from preprocess import load_data\n",
    "from bayes import BayesPredictor"
   ]
  },
  {
   "cell_type": "code",
   "execution_count": null,
   "metadata": {},
   "outputs": [],
   "source": [
    "FILENAME='Datos/chat.txt'\n",
    "HORIZONTE=4\n",
    "m=2\n",
    "\n",
    "\n",
    "data=load_data(FILENAME)\n",
    "print(data.head)\n",
    "predictor=BayesPredictor(data[\"palabras\"],HORIZONTE,m)"
   ]
  },
  {
   "cell_type": "code",
   "execution_count": null,
   "metadata": {
    "colab": {
     "base_uri": "https://localhost:8080/"
    },
    "id": "VrHEaPPcj30i",
    "outputId": "33cfb55d-d899-4720-c22b-71dfe9f51303"
   },
   "outputs": [],
   "source": [
    "\n",
    "##### LOOP PRINCIPAL #####\n",
    "\n",
    "print(\"Ingrese la frase dando ENTER luego de \\x1b[3mcada palabra\\x1b[0m.\")\n",
    "print(\"Ingrese sólo ENTER para aceptar la recomendación sugerida, o escriba la siguiente palabra y de ENTER\")\n",
    "print(\"Ingrese '.' para comenzar con una frase nueva.\")\n",
    "print(\"Ingrese '..' para terminar el proceso.\")\n",
    "\n",
    "frase = []\n",
    "palabra_sugerida = \"\"\n",
    "while 1:\n",
    "    palabra = input(\">> \")\n",
    "\n",
    "    if palabra == \"..\":\n",
    "        break\n",
    "\n",
    "    elif palabra == \".\":\n",
    "        predictor.update(frase)\n",
    "            \n",
    "        print(\"----- Comenzando frase nueva -----\")\n",
    "        frase = []\n",
    "\n",
    "    elif palabra == \"\": # acepta última palabra sugerida\n",
    "        frase.append(palabra_sugerida)\n",
    "\n",
    "    else: # escribió una palabra\n",
    "        frase.append(palabra)\n",
    "\n",
    "    if frase:\n",
    "        palabra_sugerida = predictor.predict(frase,verbose=True)[0]\n",
    "    \n",
    "        frase_propuesta = frase.copy()\n",
    "        frase_propuesta.append(\"\\x1b[3m\"+ palabra_sugerida +\"\\x1b[0m\")\n",
    "    \n",
    "        print(\" \".join(frase_propuesta))\n",
    "\n"
   ]
  },
  {
   "cell_type": "code",
   "execution_count": null,
   "metadata": {},
   "outputs": [],
   "source": []
  }
 ],
 "metadata": {
  "colab": {
   "provenance": []
  },
  "kernelspec": {
   "display_name": "Python 3 (ipykernel)",
   "language": "python",
   "name": "python3"
  },
  "language_info": {
   "codemirror_mode": {
    "name": "ipython",
    "version": 3
   },
   "file_extension": ".py",
   "mimetype": "text/x-python",
   "name": "python",
   "nbconvert_exporter": "python",
   "pygments_lexer": "ipython3",
   "version": "3.11.5"
  }
 },
 "nbformat": 4,
 "nbformat_minor": 1
}
